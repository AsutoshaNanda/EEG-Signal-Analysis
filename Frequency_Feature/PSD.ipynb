{
 "cells": [
  {
   "cell_type": "code",
   "execution_count": 11,
   "metadata": {},
   "outputs": [],
   "source": [
    "import numpy as np\n",
    "import pandas as pd\n",
    "import os\n",
    "import matplotlib.pyplot as plt\n",
    "from scipy.signal import welch\n",
    "import threading\n"
   ]
  },
  {
   "cell_type": "code",
   "execution_count": 12,
   "metadata": {},
   "outputs": [],
   "source": [
    "# File paths\n",
    "eeg_data_path = \"/Users/puchku-home/KIIT SEM/PROJECT/EEG/chbmit_preprocessed_data.csv\"\n",
    "seizure_info_path = \"/Users/puchku-home/KIIT SEM/PROJECT/EEG/sizuretimes.xlsx\" "
   ]
  },
  {
   "cell_type": "code",
   "execution_count": 13,
   "metadata": {},
   "outputs": [],
   "source": [
    "# 🔹 Load EEG Data\n",
    "def load_eeg_data(result_dict):\n",
    "    if not os.path.exists(eeg_data_path):\n",
    "        print(f\"❌ File not found: {eeg_data_path}\")\n",
    "        result_dict[\"eeg\"] = (None, None)\n",
    "        return\n",
    "    \n",
    "    df = pd.read_csv(eeg_data_path)\n",
    "\n",
    "    print(\"📂 EEG Data Loaded. Shape:\", df.shape)  # Show dataset size\n",
    "    \n",
    "    # Extract time and EEG channel data\n",
    "    time = np.arange(len(df)) / 256  # Generate time array assuming 256 Hz sampling rate\n",
    "    eeg_signals = df.iloc[:, :-1]  # Extract all EEG channels (excluding Outcome column)\n",
    "\n",
    "    result_dict[\"eeg\"] = (time, eeg_signals)"
   ]
  },
  {
   "cell_type": "code",
   "execution_count": 14,
   "metadata": {},
   "outputs": [],
   "source": [
    "# 🔹 Load Seizure Information\n",
    "def load_seizure_info(patient_id, result_dict):\n",
    "    sheet_name = f\"chb{str(patient_id).zfill(2)}\"\n",
    "    if not os.path.exists(seizure_info_path):\n",
    "        print(f\"❌ Seizure info file not found: {seizure_info_path}\")\n",
    "        result_dict[\"seizure\"] = None\n",
    "        return\n",
    "\n",
    "    try:\n",
    "        seizure_df = pd.read_excel(seizure_info_path, sheet_name=sheet_name, engine=\"openpyxl\")\n",
    "        print(f\"📊 Seizure info loaded for Patient {patient_id}\")\n",
    "        result_dict[\"seizure\"] = seizure_df\n",
    "    except Exception as e:\n",
    "        print(f\"⚠ Error loading seizure info for Patient {patient_id}: {e}\")\n",
    "        result_dict[\"seizure\"] = None"
   ]
  },
  {
   "cell_type": "code",
   "execution_count": 15,
   "metadata": {},
   "outputs": [],
   "source": [
    "# 🔹 Compute and Plot Power Spectral Density (PSD)\n",
    "def psd_plot(fs, time, eeg_signals, patient_id):\n",
    "    plt.figure(figsize=(12, 6))\n",
    "    \n",
    "    for i in range(eeg_signals.shape[1]):  # Loop through all EEG channels\n",
    "        f, Pxx = welch(eeg_signals.iloc[:, i], fs=fs, nperseg=1024, window='hann', scaling='density')\n",
    "        plt.plot(f, Pxx, label=f'Channel {i+1}')  # PSD plot\n",
    "    \n",
    "    plt.xlabel(\"Frequency (Hz)\")\n",
    "    plt.ylabel(\"Power Spectral Density (µV²/Hz)\")\n",
    "    plt.title(f\"Power Spectral Density - Patient {patient_id}\")\n",
    "    plt.legend()\n",
    "    plt.grid()\n",
    "    plt.show()"
   ]
  },
  {
   "cell_type": "code",
   "execution_count": 16,
   "metadata": {},
   "outputs": [
    {
     "name": "stdout",
     "output_type": "stream",
     "text": [
      "⚠ Error loading seizure info for Patient 1: Missing optional dependency 'openpyxl'.  Use pip or conda to install openpyxl.\n",
      "📂 EEG Data Loaded. Shape: (2097150, 24)\n"
     ]
    }
   ],
   "source": [
    "# 🔹 Main Function\n",
    "if __name__ == \"__main__\":\n",
    "    fs = 256  # EEG sampling rate\n",
    "    patient_id = 1  # Example patient\n",
    "\n",
    "    # Dictionary to store thread results\n",
    "    result_dict = {}\n",
    "\n",
    "    # Create threads\n",
    "    eeg_thread = threading.Thread(target=load_eeg_data, args=(result_dict,))\n",
    "    seizure_thread = threading.Thread(target=load_seizure_info, args=(patient_id, result_dict))\n",
    "\n",
    "    # Start threads\n",
    "    eeg_thread.start()\n",
    "    seizure_thread.start()\n",
    "\n",
    "    # Wait for threads to finish\n",
    "    eeg_thread.join()\n",
    "    seizure_thread.join()\n",
    "\n",
    "    # Retrieve results\n",
    "    time, eeg_signals = result_dict.get(\"eeg\", (None, None))\n",
    "    seizure_df = result_dict.get(\"seizure\", None)\n",
    "\n",
    "    if time is not None and eeg_signals is not None and seizure_df is not None:\n",
    "        psd_plot(fs, time, eeg_signals, patient_id)  # ✅ Compute and plot PSD"
   ]
  }
 ],
 "metadata": {
  "kernelspec": {
   "display_name": "myeeg",
   "language": "python",
   "name": "python3"
  },
  "language_info": {
   "codemirror_mode": {
    "name": "ipython",
    "version": 3
   },
   "file_extension": ".py",
   "mimetype": "text/x-python",
   "name": "python",
   "nbconvert_exporter": "python",
   "pygments_lexer": "ipython3",
   "version": "3.9.6"
  }
 },
 "nbformat": 4,
 "nbformat_minor": 2
}
