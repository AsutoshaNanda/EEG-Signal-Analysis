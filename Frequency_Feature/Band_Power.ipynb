{
 "cells": [
  {
   "cell_type": "code",
   "execution_count": 2,
   "metadata": {},
   "outputs": [],
   "source": [
    "import numpy as np\n",
    "import pandas as pd\n",
    "import os\n",
    "from scipy.signal import welch\n",
    "\n"
   ]
  },
  {
   "cell_type": "code",
   "execution_count": 4,
   "metadata": {},
   "outputs": [],
   "source": [
    "# 🔹 File Paths\n",
    "eeg_data_path = \"/Users/puchku-home/KIIT SEM/PROJECT/EEG/chbmit_preprocessed_data.csv\"\n",
    "seizure_info_path = \"/Users/puchku-home/KIIT SEM/PROJECT/EEG/sizuretimes.xlsx\"\n",
    "\n",
    "# 🔹 Output Folder (Create if not exists)\n",
    "output_folder = \"/Users/puchku-home/KIIT SEM/PROJECT/EEG/Band_Power_Results.0\"\n",
    "os.makedirs(output_folder, exist_ok=True)\n",
    "\n",
    "# 🔹 Load Patient List from Seizure Info Excel (Extract Sheet Names)\n",
    "xls = pd.ExcelFile(seizure_info_path)\n",
    "patient_ids = xls.sheet_names  # Extract patient IDs dynamically (e.g., \"chb24\", \"chb23\", ...)\n"
   ]
  },
  {
   "cell_type": "code",
   "execution_count": 5,
   "metadata": {},
   "outputs": [],
   "source": [
    "# 🔹 EEG Sampling Rate\n",
    "fs = 256  # Hz\n",
    "\n",
    "# 🔹 Define Frequency Bands\n",
    "bands = {\n",
    "    \"Delta\": (0.5, 4),\n",
    "    \"Theta\": (4, 8),\n",
    "    \"Alpha\": (8, 13),\n",
    "    \"Beta\": (13, 30),\n",
    "    \"Gamma\": (30, 50),\n",
    "}"
   ]
  },
  {
   "cell_type": "code",
   "execution_count": 7,
   "metadata": {},
   "outputs": [],
   "source": [
    "# 🔹 Function to Compute Band Power\n",
    "def compute_band_power(eeg_signals):\n",
    "    band_power_results = {}\n",
    "\n",
    "    for channel in eeg_signals.columns:\n",
    "        f, Pxx = welch(eeg_signals[channel], fs=fs, nperseg=2048, window='hann', scaling='density')\n",
    "\n",
    "        band_powers = {}\n",
    "        for band, (low, high) in bands.items():\n",
    "            band_mask = (f >= low) & (f <= high)\n",
    "            power = np.trapz(Pxx[band_mask], f[band_mask])  # Compute power using integration\n",
    "            band_powers[band] = power  # ✅ Store power for this band\n",
    "\n",
    "        band_power_results[channel] = band_powers  # ✅ Store band power for this channel\n",
    "    \n",
    "    # Convert to DataFrame\n",
    "    band_power_df = pd.DataFrame.from_dict(band_power_results, orient='index', columns=bands.keys())\n",
    "    return band_power_df"
   ]
  },
  {
   "cell_type": "code",
   "execution_count": 8,
   "metadata": {},
   "outputs": [],
   "source": [
    "# 🔹 Load Preprocessed EEG Data\n",
    "def load_eeg_data():\n",
    "    if not os.path.exists(eeg_data_path):\n",
    "        print(f\"❌ File not found: {eeg_data_path}\")\n",
    "        return None\n",
    "    \n",
    "    df = pd.read_csv(eeg_data_path)\n",
    "    print(\"📂 EEG Data Loaded. Shape:\", df.shape)\n",
    "\n",
    "    return df"
   ]
  },
  {
   "cell_type": "code",
   "execution_count": 9,
   "metadata": {},
   "outputs": [
    {
     "name": "stdout",
     "output_type": "stream",
     "text": [
      "📂 EEG Data Loaded. Shape: (2097150, 24)\n",
      "📂 Processing chb24...\n"
     ]
    },
    {
     "name": "stderr",
     "output_type": "stream",
     "text": [
      "/var/folders/ht/lcgnytjx5js3222vs1k678s80000gn/T/ipykernel_4397/2246657976.py:11: DeprecationWarning: `trapz` is deprecated. Use `trapezoid` instead, or one of the numerical integration functions in `scipy.integrate`.\n",
      "  power = np.trapz(Pxx[band_mask], f[band_mask])  # Compute power using integration\n"
     ]
    },
    {
     "name": "stdout",
     "output_type": "stream",
     "text": [
      "✅ Saved: /Users/puchku-home/KIIT SEM/PROJECT/EEG/Band_Power_Results.0/chb24_band_power.csv\n",
      "📂 Processing chb23...\n"
     ]
    },
    {
     "name": "stderr",
     "output_type": "stream",
     "text": [
      "/var/folders/ht/lcgnytjx5js3222vs1k678s80000gn/T/ipykernel_4397/2246657976.py:11: DeprecationWarning: `trapz` is deprecated. Use `trapezoid` instead, or one of the numerical integration functions in `scipy.integrate`.\n",
      "  power = np.trapz(Pxx[band_mask], f[band_mask])  # Compute power using integration\n"
     ]
    },
    {
     "name": "stdout",
     "output_type": "stream",
     "text": [
      "✅ Saved: /Users/puchku-home/KIIT SEM/PROJECT/EEG/Band_Power_Results.0/chb23_band_power.csv\n",
      "📂 Processing chb22...\n"
     ]
    },
    {
     "name": "stderr",
     "output_type": "stream",
     "text": [
      "/var/folders/ht/lcgnytjx5js3222vs1k678s80000gn/T/ipykernel_4397/2246657976.py:11: DeprecationWarning: `trapz` is deprecated. Use `trapezoid` instead, or one of the numerical integration functions in `scipy.integrate`.\n",
      "  power = np.trapz(Pxx[band_mask], f[band_mask])  # Compute power using integration\n"
     ]
    },
    {
     "name": "stdout",
     "output_type": "stream",
     "text": [
      "✅ Saved: /Users/puchku-home/KIIT SEM/PROJECT/EEG/Band_Power_Results.0/chb22_band_power.csv\n",
      "📂 Processing chb21...\n"
     ]
    },
    {
     "name": "stderr",
     "output_type": "stream",
     "text": [
      "/var/folders/ht/lcgnytjx5js3222vs1k678s80000gn/T/ipykernel_4397/2246657976.py:11: DeprecationWarning: `trapz` is deprecated. Use `trapezoid` instead, or one of the numerical integration functions in `scipy.integrate`.\n",
      "  power = np.trapz(Pxx[band_mask], f[band_mask])  # Compute power using integration\n"
     ]
    },
    {
     "name": "stdout",
     "output_type": "stream",
     "text": [
      "✅ Saved: /Users/puchku-home/KIIT SEM/PROJECT/EEG/Band_Power_Results.0/chb21_band_power.csv\n",
      "📂 Processing chb20...\n"
     ]
    },
    {
     "name": "stderr",
     "output_type": "stream",
     "text": [
      "/var/folders/ht/lcgnytjx5js3222vs1k678s80000gn/T/ipykernel_4397/2246657976.py:11: DeprecationWarning: `trapz` is deprecated. Use `trapezoid` instead, or one of the numerical integration functions in `scipy.integrate`.\n",
      "  power = np.trapz(Pxx[band_mask], f[band_mask])  # Compute power using integration\n"
     ]
    },
    {
     "name": "stdout",
     "output_type": "stream",
     "text": [
      "✅ Saved: /Users/puchku-home/KIIT SEM/PROJECT/EEG/Band_Power_Results.0/chb20_band_power.csv\n",
      "📂 Processing chb19...\n"
     ]
    },
    {
     "name": "stderr",
     "output_type": "stream",
     "text": [
      "/var/folders/ht/lcgnytjx5js3222vs1k678s80000gn/T/ipykernel_4397/2246657976.py:11: DeprecationWarning: `trapz` is deprecated. Use `trapezoid` instead, or one of the numerical integration functions in `scipy.integrate`.\n",
      "  power = np.trapz(Pxx[band_mask], f[band_mask])  # Compute power using integration\n"
     ]
    },
    {
     "name": "stdout",
     "output_type": "stream",
     "text": [
      "✅ Saved: /Users/puchku-home/KIIT SEM/PROJECT/EEG/Band_Power_Results.0/chb19_band_power.csv\n",
      "📂 Processing chb18...\n"
     ]
    },
    {
     "name": "stderr",
     "output_type": "stream",
     "text": [
      "/var/folders/ht/lcgnytjx5js3222vs1k678s80000gn/T/ipykernel_4397/2246657976.py:11: DeprecationWarning: `trapz` is deprecated. Use `trapezoid` instead, or one of the numerical integration functions in `scipy.integrate`.\n",
      "  power = np.trapz(Pxx[band_mask], f[band_mask])  # Compute power using integration\n"
     ]
    },
    {
     "name": "stdout",
     "output_type": "stream",
     "text": [
      "✅ Saved: /Users/puchku-home/KIIT SEM/PROJECT/EEG/Band_Power_Results.0/chb18_band_power.csv\n",
      "📂 Processing chb17...\n"
     ]
    },
    {
     "name": "stderr",
     "output_type": "stream",
     "text": [
      "/var/folders/ht/lcgnytjx5js3222vs1k678s80000gn/T/ipykernel_4397/2246657976.py:11: DeprecationWarning: `trapz` is deprecated. Use `trapezoid` instead, or one of the numerical integration functions in `scipy.integrate`.\n",
      "  power = np.trapz(Pxx[band_mask], f[band_mask])  # Compute power using integration\n"
     ]
    },
    {
     "name": "stdout",
     "output_type": "stream",
     "text": [
      "✅ Saved: /Users/puchku-home/KIIT SEM/PROJECT/EEG/Band_Power_Results.0/chb17_band_power.csv\n",
      "📂 Processing chb16...\n"
     ]
    },
    {
     "name": "stderr",
     "output_type": "stream",
     "text": [
      "/var/folders/ht/lcgnytjx5js3222vs1k678s80000gn/T/ipykernel_4397/2246657976.py:11: DeprecationWarning: `trapz` is deprecated. Use `trapezoid` instead, or one of the numerical integration functions in `scipy.integrate`.\n",
      "  power = np.trapz(Pxx[band_mask], f[band_mask])  # Compute power using integration\n"
     ]
    },
    {
     "name": "stdout",
     "output_type": "stream",
     "text": [
      "✅ Saved: /Users/puchku-home/KIIT SEM/PROJECT/EEG/Band_Power_Results.0/chb16_band_power.csv\n",
      "📂 Processing chb15...\n"
     ]
    },
    {
     "name": "stderr",
     "output_type": "stream",
     "text": [
      "/var/folders/ht/lcgnytjx5js3222vs1k678s80000gn/T/ipykernel_4397/2246657976.py:11: DeprecationWarning: `trapz` is deprecated. Use `trapezoid` instead, or one of the numerical integration functions in `scipy.integrate`.\n",
      "  power = np.trapz(Pxx[band_mask], f[band_mask])  # Compute power using integration\n"
     ]
    },
    {
     "name": "stdout",
     "output_type": "stream",
     "text": [
      "✅ Saved: /Users/puchku-home/KIIT SEM/PROJECT/EEG/Band_Power_Results.0/chb15_band_power.csv\n",
      "📂 Processing chb14...\n"
     ]
    },
    {
     "name": "stderr",
     "output_type": "stream",
     "text": [
      "/var/folders/ht/lcgnytjx5js3222vs1k678s80000gn/T/ipykernel_4397/2246657976.py:11: DeprecationWarning: `trapz` is deprecated. Use `trapezoid` instead, or one of the numerical integration functions in `scipy.integrate`.\n",
      "  power = np.trapz(Pxx[band_mask], f[band_mask])  # Compute power using integration\n"
     ]
    },
    {
     "name": "stdout",
     "output_type": "stream",
     "text": [
      "✅ Saved: /Users/puchku-home/KIIT SEM/PROJECT/EEG/Band_Power_Results.0/chb14_band_power.csv\n",
      "📂 Processing chb13...\n"
     ]
    },
    {
     "name": "stderr",
     "output_type": "stream",
     "text": [
      "/var/folders/ht/lcgnytjx5js3222vs1k678s80000gn/T/ipykernel_4397/2246657976.py:11: DeprecationWarning: `trapz` is deprecated. Use `trapezoid` instead, or one of the numerical integration functions in `scipy.integrate`.\n",
      "  power = np.trapz(Pxx[band_mask], f[band_mask])  # Compute power using integration\n"
     ]
    },
    {
     "name": "stdout",
     "output_type": "stream",
     "text": [
      "✅ Saved: /Users/puchku-home/KIIT SEM/PROJECT/EEG/Band_Power_Results.0/chb13_band_power.csv\n",
      "📂 Processing chb12...\n"
     ]
    },
    {
     "name": "stderr",
     "output_type": "stream",
     "text": [
      "/var/folders/ht/lcgnytjx5js3222vs1k678s80000gn/T/ipykernel_4397/2246657976.py:11: DeprecationWarning: `trapz` is deprecated. Use `trapezoid` instead, or one of the numerical integration functions in `scipy.integrate`.\n",
      "  power = np.trapz(Pxx[band_mask], f[band_mask])  # Compute power using integration\n"
     ]
    },
    {
     "name": "stdout",
     "output_type": "stream",
     "text": [
      "✅ Saved: /Users/puchku-home/KIIT SEM/PROJECT/EEG/Band_Power_Results.0/chb12_band_power.csv\n",
      "📂 Processing chb11...\n"
     ]
    },
    {
     "name": "stderr",
     "output_type": "stream",
     "text": [
      "/var/folders/ht/lcgnytjx5js3222vs1k678s80000gn/T/ipykernel_4397/2246657976.py:11: DeprecationWarning: `trapz` is deprecated. Use `trapezoid` instead, or one of the numerical integration functions in `scipy.integrate`.\n",
      "  power = np.trapz(Pxx[band_mask], f[band_mask])  # Compute power using integration\n"
     ]
    },
    {
     "name": "stdout",
     "output_type": "stream",
     "text": [
      "✅ Saved: /Users/puchku-home/KIIT SEM/PROJECT/EEG/Band_Power_Results.0/chb11_band_power.csv\n",
      "📂 Processing chb10...\n"
     ]
    },
    {
     "name": "stderr",
     "output_type": "stream",
     "text": [
      "/var/folders/ht/lcgnytjx5js3222vs1k678s80000gn/T/ipykernel_4397/2246657976.py:11: DeprecationWarning: `trapz` is deprecated. Use `trapezoid` instead, or one of the numerical integration functions in `scipy.integrate`.\n",
      "  power = np.trapz(Pxx[band_mask], f[band_mask])  # Compute power using integration\n"
     ]
    },
    {
     "name": "stdout",
     "output_type": "stream",
     "text": [
      "✅ Saved: /Users/puchku-home/KIIT SEM/PROJECT/EEG/Band_Power_Results.0/chb10_band_power.csv\n",
      "📂 Processing chb09...\n"
     ]
    },
    {
     "name": "stderr",
     "output_type": "stream",
     "text": [
      "/var/folders/ht/lcgnytjx5js3222vs1k678s80000gn/T/ipykernel_4397/2246657976.py:11: DeprecationWarning: `trapz` is deprecated. Use `trapezoid` instead, or one of the numerical integration functions in `scipy.integrate`.\n",
      "  power = np.trapz(Pxx[band_mask], f[band_mask])  # Compute power using integration\n"
     ]
    },
    {
     "name": "stdout",
     "output_type": "stream",
     "text": [
      "✅ Saved: /Users/puchku-home/KIIT SEM/PROJECT/EEG/Band_Power_Results.0/chb09_band_power.csv\n",
      "📂 Processing chb08...\n"
     ]
    },
    {
     "name": "stderr",
     "output_type": "stream",
     "text": [
      "/var/folders/ht/lcgnytjx5js3222vs1k678s80000gn/T/ipykernel_4397/2246657976.py:11: DeprecationWarning: `trapz` is deprecated. Use `trapezoid` instead, or one of the numerical integration functions in `scipy.integrate`.\n",
      "  power = np.trapz(Pxx[band_mask], f[band_mask])  # Compute power using integration\n"
     ]
    },
    {
     "name": "stdout",
     "output_type": "stream",
     "text": [
      "✅ Saved: /Users/puchku-home/KIIT SEM/PROJECT/EEG/Band_Power_Results.0/chb08_band_power.csv\n",
      "📂 Processing chb07...\n"
     ]
    },
    {
     "name": "stderr",
     "output_type": "stream",
     "text": [
      "/var/folders/ht/lcgnytjx5js3222vs1k678s80000gn/T/ipykernel_4397/2246657976.py:11: DeprecationWarning: `trapz` is deprecated. Use `trapezoid` instead, or one of the numerical integration functions in `scipy.integrate`.\n",
      "  power = np.trapz(Pxx[band_mask], f[band_mask])  # Compute power using integration\n"
     ]
    },
    {
     "name": "stdout",
     "output_type": "stream",
     "text": [
      "✅ Saved: /Users/puchku-home/KIIT SEM/PROJECT/EEG/Band_Power_Results.0/chb07_band_power.csv\n",
      "📂 Processing chb06...\n"
     ]
    },
    {
     "name": "stderr",
     "output_type": "stream",
     "text": [
      "/var/folders/ht/lcgnytjx5js3222vs1k678s80000gn/T/ipykernel_4397/2246657976.py:11: DeprecationWarning: `trapz` is deprecated. Use `trapezoid` instead, or one of the numerical integration functions in `scipy.integrate`.\n",
      "  power = np.trapz(Pxx[band_mask], f[band_mask])  # Compute power using integration\n"
     ]
    },
    {
     "name": "stdout",
     "output_type": "stream",
     "text": [
      "✅ Saved: /Users/puchku-home/KIIT SEM/PROJECT/EEG/Band_Power_Results.0/chb06_band_power.csv\n",
      "📂 Processing chb05...\n"
     ]
    },
    {
     "name": "stderr",
     "output_type": "stream",
     "text": [
      "/var/folders/ht/lcgnytjx5js3222vs1k678s80000gn/T/ipykernel_4397/2246657976.py:11: DeprecationWarning: `trapz` is deprecated. Use `trapezoid` instead, or one of the numerical integration functions in `scipy.integrate`.\n",
      "  power = np.trapz(Pxx[band_mask], f[band_mask])  # Compute power using integration\n"
     ]
    },
    {
     "name": "stdout",
     "output_type": "stream",
     "text": [
      "✅ Saved: /Users/puchku-home/KIIT SEM/PROJECT/EEG/Band_Power_Results.0/chb05_band_power.csv\n",
      "📂 Processing chb04...\n"
     ]
    },
    {
     "name": "stderr",
     "output_type": "stream",
     "text": [
      "/var/folders/ht/lcgnytjx5js3222vs1k678s80000gn/T/ipykernel_4397/2246657976.py:11: DeprecationWarning: `trapz` is deprecated. Use `trapezoid` instead, or one of the numerical integration functions in `scipy.integrate`.\n",
      "  power = np.trapz(Pxx[band_mask], f[band_mask])  # Compute power using integration\n"
     ]
    },
    {
     "name": "stdout",
     "output_type": "stream",
     "text": [
      "✅ Saved: /Users/puchku-home/KIIT SEM/PROJECT/EEG/Band_Power_Results.0/chb04_band_power.csv\n",
      "📂 Processing chb03...\n"
     ]
    },
    {
     "name": "stderr",
     "output_type": "stream",
     "text": [
      "/var/folders/ht/lcgnytjx5js3222vs1k678s80000gn/T/ipykernel_4397/2246657976.py:11: DeprecationWarning: `trapz` is deprecated. Use `trapezoid` instead, or one of the numerical integration functions in `scipy.integrate`.\n",
      "  power = np.trapz(Pxx[band_mask], f[band_mask])  # Compute power using integration\n"
     ]
    },
    {
     "name": "stdout",
     "output_type": "stream",
     "text": [
      "✅ Saved: /Users/puchku-home/KIIT SEM/PROJECT/EEG/Band_Power_Results.0/chb03_band_power.csv\n",
      "📂 Processing chb02...\n"
     ]
    },
    {
     "name": "stderr",
     "output_type": "stream",
     "text": [
      "/var/folders/ht/lcgnytjx5js3222vs1k678s80000gn/T/ipykernel_4397/2246657976.py:11: DeprecationWarning: `trapz` is deprecated. Use `trapezoid` instead, or one of the numerical integration functions in `scipy.integrate`.\n",
      "  power = np.trapz(Pxx[band_mask], f[band_mask])  # Compute power using integration\n"
     ]
    },
    {
     "name": "stdout",
     "output_type": "stream",
     "text": [
      "✅ Saved: /Users/puchku-home/KIIT SEM/PROJECT/EEG/Band_Power_Results.0/chb02_band_power.csv\n",
      "📂 Processing chb01...\n"
     ]
    },
    {
     "name": "stderr",
     "output_type": "stream",
     "text": [
      "/var/folders/ht/lcgnytjx5js3222vs1k678s80000gn/T/ipykernel_4397/2246657976.py:11: DeprecationWarning: `trapz` is deprecated. Use `trapezoid` instead, or one of the numerical integration functions in `scipy.integrate`.\n",
      "  power = np.trapz(Pxx[band_mask], f[band_mask])  # Compute power using integration\n"
     ]
    },
    {
     "name": "stdout",
     "output_type": "stream",
     "text": [
      "✅ Saved: /Users/puchku-home/KIIT SEM/PROJECT/EEG/Band_Power_Results.0/chb01_band_power.csv\n",
      "\n",
      "✅ Band Power Computation Completed for All Patients!\n"
     ]
    }
   ],
   "source": [
    "\n",
    "# 🔹 Process Each Patient\n",
    "df = load_eeg_data()\n",
    "if df is not None:\n",
    "    for patient in patient_ids:\n",
    "        print(f\"📂 Processing {patient}...\")\n",
    "\n",
    "        # Extract only relevant rows for this patient\n",
    "        eeg_signals = df.iloc[:, :-1]  # Exclude outcome column\n",
    "\n",
    "        band_power_df = compute_band_power(eeg_signals)\n",
    "\n",
    "        # 🔹 Save each patient's band power as a separate CSV file\n",
    "        output_file = os.path.join(output_folder, f\"{patient}_band_power.csv\")\n",
    "        band_power_df.to_csv(output_file)\n",
    "        \n",
    "        print(f\"✅ Saved: {output_file}\")\n",
    "\n",
    "print(\"\\n✅ Band Power Computation Completed for All Patients!\")"
   ]
  }
 ],
 "metadata": {
  "kernelspec": {
   "display_name": "myeeg",
   "language": "python",
   "name": "python3"
  },
  "language_info": {
   "codemirror_mode": {
    "name": "ipython",
    "version": 3
   },
   "file_extension": ".py",
   "mimetype": "text/x-python",
   "name": "python",
   "nbconvert_exporter": "python",
   "pygments_lexer": "ipython3",
   "version": "3.9.6"
  }
 },
 "nbformat": 4,
 "nbformat_minor": 2
}
