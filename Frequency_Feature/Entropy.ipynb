{
 "cells": [
  {
   "cell_type": "code",
   "execution_count": null,
   "metadata": {},
   "outputs": [],
   "source": [
    "import numpy as np\n",
    "import pandas as pd\n",
    "import os\n",
    "from scipy.signal import welch\n",
    "from scipy.stats import entropy  # 🔹 Import entropy function"
   ]
  },
  {
   "cell_type": "code",
   "execution_count": 4,
   "metadata": {
    "notebookRunGroups": {
     "groupValue": "1"
    }
   },
   "outputs": [],
   "source": [
    "\n",
    "# 🔹 File Paths\n",
    "eeg_data_path = \"/Users/puchku-home/KIIT SEM/PROJECT/EEG/chbmit_preprocessed_data.csv\"\n",
    "seizure_info_path = \"/Users/puchku-home/KIIT SEM/PROJECT/EEG/sizuretimes.xlsx\"\n",
    "\n",
    "# 🔹 Output Folder\n",
    "output_folder = \"/Users/puchku-home/KIIT SEM/PROJECT/EEG/Frequency_Entropy_Results.final\"\n",
    "os.makedirs(output_folder, exist_ok=True)\n",
    "\n",
    "# 🔹 Load Patient List from Seizure Info Excel\n",
    "xls = pd.ExcelFile(seizure_info_path)\n",
    "patient_ids = xls.sheet_names  # Extract patient IDs dynamically (e.g., \"chb24\", \"chb23\", ...)"
   ]
  },
  {
   "cell_type": "code",
   "execution_count": 5,
   "metadata": {
    "notebookRunGroups": {
     "groupValue": "1"
    }
   },
   "outputs": [],
   "source": [
    "# 🔹 EEG Sampling Rate\n",
    "fs = 256  # Hz\n",
    "\n",
    "# 🔹 Load Preprocessed EEG Data\n",
    "def load_eeg_data():\n",
    "    if not os.path.exists(eeg_data_path):\n",
    "        print(f\"❌ File not found: {eeg_data_path}\")\n",
    "        return None\n",
    "    \n",
    "    df = pd.read_csv(eeg_data_path)\n",
    "    print(\"📂 EEG Data Loaded. Shape:\", df.shape)\n",
    "    \n",
    "    return df"
   ]
  },
  {
   "cell_type": "code",
   "execution_count": 6,
   "metadata": {},
   "outputs": [],
   "source": [
    "# 🔹 Function to Compute Frequency Entropy\n",
    "def compute_frequency_entropy(eeg_signals):\n",
    "    freq_entropy_results = {}\n",
    "\n",
    "    for channel in eeg_signals.columns:\n",
    "        f, Pxx = welch(eeg_signals[channel], fs=fs, nperseg=1024, window='hann', scaling='density')\n",
    "\n",
    "        # ✅ Normalize Power Spectrum\n",
    "        Pxx_norm = Pxx / np.sum(Pxx)\n",
    "\n",
    "        # ✅ Compute Shannon Entropy\n",
    "        freq_entropy = entropy(Pxx_norm)  # 🔹 Apply entropy formula\n",
    "\n",
    "        freq_entropy_results[channel] = freq_entropy  # ✅ Store entropy per electrode\n",
    "\n",
    "    # Convert to DataFrame\n",
    "    freq_entropy_df = pd.DataFrame.from_dict(freq_entropy_results, orient='index', columns=[\"Frequency Entropy\"])\n",
    "    return freq_entropy_df"
   ]
  },
  {
   "cell_type": "code",
   "execution_count": 7,
   "metadata": {},
   "outputs": [
    {
     "name": "stdout",
     "output_type": "stream",
     "text": [
      "📂 EEG Data Loaded. Shape: (2097150, 24)\n",
      "\n",
      "📂 Processing chb24...\n",
      "✅ Saved: /Users/puchku-home/KIIT SEM/PROJECT/EEG/Frequency_Entropy_Results.final/chb24_frequency_entropy.csv\n",
      "\n",
      "📂 Processing chb23...\n",
      "✅ Saved: /Users/puchku-home/KIIT SEM/PROJECT/EEG/Frequency_Entropy_Results.final/chb23_frequency_entropy.csv\n",
      "\n",
      "📂 Processing chb22...\n",
      "✅ Saved: /Users/puchku-home/KIIT SEM/PROJECT/EEG/Frequency_Entropy_Results.final/chb22_frequency_entropy.csv\n",
      "\n",
      "📂 Processing chb21...\n",
      "✅ Saved: /Users/puchku-home/KIIT SEM/PROJECT/EEG/Frequency_Entropy_Results.final/chb21_frequency_entropy.csv\n",
      "\n",
      "📂 Processing chb20...\n",
      "✅ Saved: /Users/puchku-home/KIIT SEM/PROJECT/EEG/Frequency_Entropy_Results.final/chb20_frequency_entropy.csv\n",
      "\n",
      "📂 Processing chb19...\n",
      "✅ Saved: /Users/puchku-home/KIIT SEM/PROJECT/EEG/Frequency_Entropy_Results.final/chb19_frequency_entropy.csv\n",
      "\n",
      "📂 Processing chb18...\n",
      "✅ Saved: /Users/puchku-home/KIIT SEM/PROJECT/EEG/Frequency_Entropy_Results.final/chb18_frequency_entropy.csv\n",
      "\n",
      "📂 Processing chb17...\n",
      "✅ Saved: /Users/puchku-home/KIIT SEM/PROJECT/EEG/Frequency_Entropy_Results.final/chb17_frequency_entropy.csv\n",
      "\n",
      "📂 Processing chb16...\n",
      "✅ Saved: /Users/puchku-home/KIIT SEM/PROJECT/EEG/Frequency_Entropy_Results.final/chb16_frequency_entropy.csv\n",
      "\n",
      "📂 Processing chb15...\n",
      "✅ Saved: /Users/puchku-home/KIIT SEM/PROJECT/EEG/Frequency_Entropy_Results.final/chb15_frequency_entropy.csv\n",
      "\n",
      "📂 Processing chb14...\n"
     ]
    },
    {
     "name": "stderr",
     "output_type": "stream",
     "text": [
      "/Users/puchku-home/KIIT SEM/PROJECT/EEG/myeeg/lib/python3.9/site-packages/scipy/signal/_spectral_py.py:600: UserWarning: nperseg = 1024 is greater than input length  = 16, using nperseg = 16\n",
      "  freqs, _, Pxy = _spectral_helper(x, y, fs, window, nperseg, noverlap,\n",
      "/Users/puchku-home/KIIT SEM/PROJECT/EEG/myeeg/lib/python3.9/site-packages/scipy/signal/_spectral_py.py:600: UserWarning: nperseg = 1024 is greater than input length  = 7, using nperseg = 7\n",
      "  freqs, _, Pxy = _spectral_helper(x, y, fs, window, nperseg, noverlap,\n",
      "/Users/puchku-home/KIIT SEM/PROJECT/EEG/myeeg/lib/python3.9/site-packages/scipy/signal/_spectral_py.py:600: UserWarning: nperseg = 1024 is greater than input length  = 3, using nperseg = 3\n",
      "  freqs, _, Pxy = _spectral_helper(x, y, fs, window, nperseg, noverlap,\n",
      "/Users/puchku-home/KIIT SEM/PROJECT/EEG/myeeg/lib/python3.9/site-packages/scipy/signal/_spectral_py.py:600: UserWarning: nperseg = 1024 is greater than input length  = 4, using nperseg = 4\n",
      "  freqs, _, Pxy = _spectral_helper(x, y, fs, window, nperseg, noverlap,\n",
      "/Users/puchku-home/KIIT SEM/PROJECT/EEG/myeeg/lib/python3.9/site-packages/scipy/signal/_spectral_py.py:600: UserWarning: nperseg = 1024 is greater than input length  = 8, using nperseg = 8\n",
      "  freqs, _, Pxy = _spectral_helper(x, y, fs, window, nperseg, noverlap,\n",
      "/Users/puchku-home/KIIT SEM/PROJECT/EEG/myeeg/lib/python3.9/site-packages/scipy/signal/_spectral_py.py:600: UserWarning: nperseg = 1024 is greater than input length  = 3, using nperseg = 3\n",
      "  freqs, _, Pxy = _spectral_helper(x, y, fs, window, nperseg, noverlap,\n",
      "/Users/puchku-home/KIIT SEM/PROJECT/EEG/myeeg/lib/python3.9/site-packages/scipy/signal/_spectral_py.py:600: UserWarning: nperseg = 1024 is greater than input length  = 6, using nperseg = 6\n",
      "  freqs, _, Pxy = _spectral_helper(x, y, fs, window, nperseg, noverlap,\n",
      "/Users/puchku-home/KIIT SEM/PROJECT/EEG/myeeg/lib/python3.9/site-packages/scipy/signal/_spectral_py.py:600: UserWarning: nperseg = 1024 is greater than input length  = 3, using nperseg = 3\n",
      "  freqs, _, Pxy = _spectral_helper(x, y, fs, window, nperseg, noverlap,\n",
      "/Users/puchku-home/KIIT SEM/PROJECT/EEG/myeeg/lib/python3.9/site-packages/scipy/signal/_spectral_py.py:600: UserWarning: nperseg = 1024 is greater than input length  = 10, using nperseg = 10\n",
      "  freqs, _, Pxy = _spectral_helper(x, y, fs, window, nperseg, noverlap,\n",
      "/Users/puchku-home/KIIT SEM/PROJECT/EEG/myeeg/lib/python3.9/site-packages/scipy/signal/_spectral_py.py:600: UserWarning: nperseg = 1024 is greater than input length  = 20, using nperseg = 20\n",
      "  freqs, _, Pxy = _spectral_helper(x, y, fs, window, nperseg, noverlap,\n",
      "/Users/puchku-home/KIIT SEM/PROJECT/EEG/myeeg/lib/python3.9/site-packages/scipy/signal/_spectral_py.py:600: UserWarning: nperseg = 1024 is greater than input length  = 8, using nperseg = 8\n",
      "  freqs, _, Pxy = _spectral_helper(x, y, fs, window, nperseg, noverlap,\n"
     ]
    },
    {
     "name": "stdout",
     "output_type": "stream",
     "text": [
      "✅ Saved: /Users/puchku-home/KIIT SEM/PROJECT/EEG/Frequency_Entropy_Results.final/chb14_frequency_entropy.csv\n",
      "\n",
      "📂 Processing chb13...\n",
      "✅ Saved: /Users/puchku-home/KIIT SEM/PROJECT/EEG/Frequency_Entropy_Results.final/chb13_frequency_entropy.csv\n",
      "\n",
      "📂 Processing chb12...\n",
      "✅ Saved: /Users/puchku-home/KIIT SEM/PROJECT/EEG/Frequency_Entropy_Results.final/chb12_frequency_entropy.csv\n",
      "\n",
      "📂 Processing chb11...\n",
      "✅ Saved: /Users/puchku-home/KIIT SEM/PROJECT/EEG/Frequency_Entropy_Results.final/chb11_frequency_entropy.csv\n",
      "\n",
      "📂 Processing chb10...\n",
      "✅ Saved: /Users/puchku-home/KIIT SEM/PROJECT/EEG/Frequency_Entropy_Results.final/chb10_frequency_entropy.csv\n",
      "\n",
      "📂 Processing chb09...\n",
      "✅ Saved: /Users/puchku-home/KIIT SEM/PROJECT/EEG/Frequency_Entropy_Results.final/chb09_frequency_entropy.csv\n",
      "\n",
      "📂 Processing chb08...\n",
      "✅ Saved: /Users/puchku-home/KIIT SEM/PROJECT/EEG/Frequency_Entropy_Results.final/chb08_frequency_entropy.csv\n",
      "\n",
      "📂 Processing chb07...\n",
      "✅ Saved: /Users/puchku-home/KIIT SEM/PROJECT/EEG/Frequency_Entropy_Results.final/chb07_frequency_entropy.csv\n",
      "\n",
      "📂 Processing chb06...\n",
      "✅ Saved: /Users/puchku-home/KIIT SEM/PROJECT/EEG/Frequency_Entropy_Results.final/chb06_frequency_entropy.csv\n",
      "\n",
      "📂 Processing chb05...\n",
      "✅ Saved: /Users/puchku-home/KIIT SEM/PROJECT/EEG/Frequency_Entropy_Results.final/chb05_frequency_entropy.csv\n",
      "\n",
      "📂 Processing chb04...\n"
     ]
    },
    {
     "name": "stderr",
     "output_type": "stream",
     "text": [
      "/Users/puchku-home/KIIT SEM/PROJECT/EEG/myeeg/lib/python3.9/site-packages/scipy/signal/_spectral_py.py:600: UserWarning: nperseg = 1024 is greater than input length  = 12, using nperseg = 12\n",
      "  freqs, _, Pxy = _spectral_helper(x, y, fs, window, nperseg, noverlap,\n",
      "/Users/puchku-home/KIIT SEM/PROJECT/EEG/myeeg/lib/python3.9/site-packages/scipy/signal/_spectral_py.py:600: UserWarning: nperseg = 1024 is greater than input length  = 40, using nperseg = 40\n",
      "  freqs, _, Pxy = _spectral_helper(x, y, fs, window, nperseg, noverlap,\n",
      "/Users/puchku-home/KIIT SEM/PROJECT/EEG/myeeg/lib/python3.9/site-packages/scipy/signal/_spectral_py.py:600: UserWarning: nperseg = 1024 is greater than input length  = 3, using nperseg = 3\n",
      "  freqs, _, Pxy = _spectral_helper(x, y, fs, window, nperseg, noverlap,\n",
      "/Users/puchku-home/KIIT SEM/PROJECT/EEG/myeeg/lib/python3.9/site-packages/scipy/signal/_spectral_py.py:600: UserWarning: nperseg = 1024 is greater than input length  = 7, using nperseg = 7\n",
      "  freqs, _, Pxy = _spectral_helper(x, y, fs, window, nperseg, noverlap,\n",
      "/Users/puchku-home/KIIT SEM/PROJECT/EEG/myeeg/lib/python3.9/site-packages/scipy/signal/_spectral_py.py:600: UserWarning: nperseg = 1024 is greater than input length  = 4, using nperseg = 4\n",
      "  freqs, _, Pxy = _spectral_helper(x, y, fs, window, nperseg, noverlap,\n",
      "/Users/puchku-home/KIIT SEM/PROJECT/EEG/myeeg/lib/python3.9/site-packages/scipy/signal/_spectral_py.py:600: UserWarning: nperseg = 1024 is greater than input length  = 5, using nperseg = 5\n",
      "  freqs, _, Pxy = _spectral_helper(x, y, fs, window, nperseg, noverlap,\n",
      "/Users/puchku-home/KIIT SEM/PROJECT/EEG/myeeg/lib/python3.9/site-packages/scipy/signal/_spectral_py.py:600: UserWarning: nperseg = 1024 is greater than input length  = 3, using nperseg = 3\n",
      "  freqs, _, Pxy = _spectral_helper(x, y, fs, window, nperseg, noverlap,\n",
      "/Users/puchku-home/KIIT SEM/PROJECT/EEG/myeeg/lib/python3.9/site-packages/scipy/signal/_spectral_py.py:600: UserWarning: nperseg = 1024 is greater than input length  = 10, using nperseg = 10\n",
      "  freqs, _, Pxy = _spectral_helper(x, y, fs, window, nperseg, noverlap,\n",
      "/Users/puchku-home/KIIT SEM/PROJECT/EEG/myeeg/lib/python3.9/site-packages/scipy/signal/_spectral_py.py:600: UserWarning: nperseg = 1024 is greater than input length  = 5, using nperseg = 5\n",
      "  freqs, _, Pxy = _spectral_helper(x, y, fs, window, nperseg, noverlap,\n",
      "/Users/puchku-home/KIIT SEM/PROJECT/EEG/myeeg/lib/python3.9/site-packages/scipy/signal/_spectral_py.py:600: UserWarning: nperseg = 1024 is greater than input length  = 4, using nperseg = 4\n",
      "  freqs, _, Pxy = _spectral_helper(x, y, fs, window, nperseg, noverlap,\n",
      "/Users/puchku-home/KIIT SEM/PROJECT/EEG/myeeg/lib/python3.9/site-packages/scipy/signal/_spectral_py.py:600: UserWarning: nperseg = 1024 is greater than input length  = 7, using nperseg = 7\n",
      "  freqs, _, Pxy = _spectral_helper(x, y, fs, window, nperseg, noverlap,\n"
     ]
    },
    {
     "name": "stdout",
     "output_type": "stream",
     "text": [
      "✅ Saved: /Users/puchku-home/KIIT SEM/PROJECT/EEG/Frequency_Entropy_Results.final/chb04_frequency_entropy.csv\n",
      "\n",
      "📂 Processing chb03...\n",
      "✅ Saved: /Users/puchku-home/KIIT SEM/PROJECT/EEG/Frequency_Entropy_Results.final/chb03_frequency_entropy.csv\n",
      "\n",
      "📂 Processing chb02...\n",
      "✅ Saved: /Users/puchku-home/KIIT SEM/PROJECT/EEG/Frequency_Entropy_Results.final/chb02_frequency_entropy.csv\n",
      "\n",
      "📂 Processing chb01...\n",
      "✅ Saved: /Users/puchku-home/KIIT SEM/PROJECT/EEG/Frequency_Entropy_Results.final/chb01_frequency_entropy.csv\n",
      "\n",
      "✅ Frequency Entropy Computation Completed for All Patients!\n"
     ]
    },
    {
     "name": "stderr",
     "output_type": "stream",
     "text": [
      "/Users/puchku-home/KIIT SEM/PROJECT/EEG/myeeg/lib/python3.9/site-packages/scipy/signal/_spectral_py.py:600: UserWarning: nperseg = 1024 is greater than input length  = 3, using nperseg = 3\n",
      "  freqs, _, Pxy = _spectral_helper(x, y, fs, window, nperseg, noverlap,\n",
      "/Users/puchku-home/KIIT SEM/PROJECT/EEG/myeeg/lib/python3.9/site-packages/scipy/signal/_spectral_py.py:600: UserWarning: nperseg = 1024 is greater than input length  = 7, using nperseg = 7\n",
      "  freqs, _, Pxy = _spectral_helper(x, y, fs, window, nperseg, noverlap,\n"
     ]
    }
   ],
   "source": [
    "# 🔹 Process Each Patient\n",
    "df = load_eeg_data()\n",
    "if df is not None:\n",
    "    for patient in patient_ids:\n",
    "        print(f\"\\n📂 Processing {patient}...\")\n",
    "\n",
    "        # ✅ Load seizure data for this patient\n",
    "        seizure_df = pd.read_excel(seizure_info_path, sheet_name=patient, engine=\"openpyxl\")\n",
    "\n",
    "        # ✅ Check if `start` and `stop ` columns exist\n",
    "        if \"start\" not in seizure_df.columns or \"stop \" not in seizure_df.columns:\n",
    "            print(f\"⚠️ Skipping {patient}: 'start' or 'stop ' columns not found.\")\n",
    "            continue  # Skip if no valid columns\n",
    "\n",
    "        # ✅ Extract seizure time rows\n",
    "        patient_rows = seizure_df[['start', 'stop ']].dropna()\n",
    "        patient_eeg_data = df.iloc[patient_rows.index, :-1]  # Select only relevant EEG signals\n",
    "\n",
    "        # ✅ Compute Frequency Entropy for this patient\n",
    "        freq_entropy_df = compute_frequency_entropy(patient_eeg_data)\n",
    "\n",
    "        # 🔹 Save each patient's frequency entropy as a separate CSV file\n",
    "        output_file = os.path.join(output_folder, f\"{patient}_frequency_entropy.csv\")\n",
    "        freq_entropy_df.to_csv(output_file)\n",
    "\n",
    "        print(f\"✅ Saved: {output_file}\")\n",
    "\n",
    "print(\"\\n✅ Frequency Entropy Computation Completed for All Patients!\")\n"
   ]
  }
 ],
 "metadata": {
  "kernelspec": {
   "display_name": "myeeg",
   "language": "python",
   "name": "python3"
  },
  "language_info": {
   "codemirror_mode": {
    "name": "ipython",
    "version": 3
   },
   "file_extension": ".py",
   "mimetype": "text/x-python",
   "name": "python",
   "nbconvert_exporter": "python",
   "pygments_lexer": "ipython3",
   "version": "3.9.6"
  }
 },
 "nbformat": 4,
 "nbformat_minor": 2
}
