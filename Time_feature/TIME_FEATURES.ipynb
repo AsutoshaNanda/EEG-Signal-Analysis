{
 "cells": [
  {
   "cell_type": "code",
   "execution_count": 1,
   "metadata": {},
   "outputs": [
    {
     "name": "stdout",
     "output_type": "stream",
     "text": [
      "Feature extraction complete. Saved to /Users/puchku-home/KIIT SEM/PROJECT/EEG/TIME_FEATURES_OUTPUTSeeg_mean.csv\n",
      "Feature extraction complete. Saved to /Users/puchku-home/KIIT SEM/PROJECT/EEG/TIME_FEATURES_OUTPUTSeeg_variance.csv\n",
      "Feature extraction complete. Saved to /Users/puchku-home/KIIT SEM/PROJECT/EEG/TIME_FEATURES_OUTPUTSeeg_std.csv\n",
      "Feature extraction complete. Saved to /Users/puchku-home/KIIT SEM/PROJECT/EEG/TIME_FEATURES_OUTPUTSeeg_min_max.csv\n",
      "Feature extraction complete. Saved to /Users/puchku-home/KIIT SEM/PROJECT/EEG/TIME_FEATURES_OUTPUTSeeg_ptp.csv\n",
      "Feature extraction complete. Saved to /Users/puchku-home/KIIT SEM/PROJECT/EEG/TIME_FEATURES_OUTPUTSeeg_energy.csv\n",
      "Feature extraction complete. Saved to /Users/puchku-home/KIIT SEM/PROJECT/EEG/TIME_FEATURES_OUTPUTSeeg_rms.csv\n",
      "Feature extraction complete. Saved to /Users/puchku-home/KIIT SEM/PROJECT/EEG/TIME_FEATURES_OUTPUTSeeg_skew_kurt.csv\n",
      "Feature extraction complete. Saved to /Users/puchku-home/KIIT SEM/PROJECT/EEG/TIME_FEATURES_OUTPUTSeeg_zero_crossing.csv\n",
      "✅ All time-domain features extracted and saved separately.\n"
     ]
    }
   ],
   "source": [
    "import pandas as pd\n",
    "import numpy as np\n",
    "import os\n",
    "\n",
    "# Load the preprocessed EEG dataset\n",
    "input_file = '/Users/puchku-home/KIIT SEM/PROJECT/EEG/EEG Assets/chbmit_preprocessed_data.csv' # Change this path\n",
    "output_dir = '/Users/puchku-home/KIIT SEM/PROJECT/EEG/TIME_FEATURES_OUTPUTS' # Change this path\n",
    "\n",
    "# Ensure output directory exists\n",
    "os.makedirs(output_dir, exist_ok=True)\n",
    "\n",
    "# Read the dataset\n",
    "data = pd.read_csv(input_file)\n",
    "eeg_columns = [col for col in data.columns if col != 'Outcome']\n",
    "\n",
    "# Convert to NumPy array for faster computation\n",
    "eeg_data = data[eeg_columns].values\n",
    "outcomes = data['Outcome'].values\n",
    "\n",
    "# Define window parameters\n",
    "fs = 256  # Sampling frequency (Hz)\n",
    "window_size = fs * 1  # 1-second window\n",
    "step_size = window_size // 2  # 50% overlap\n",
    "\n",
    "### Feature Calculation Functions\n",
    "def calculate_mean(window, eeg_columns):\n",
    "    return {f'{col}_mean': np.mean(window, axis=0) for col in eeg_columns}\n",
    "\n",
    "def calculate_variance(window, eeg_columns):\n",
    "    return {f'{col}_var': np.var(window, axis=0) for col in eeg_columns}\n",
    "\n",
    "def calculate_std(window, eeg_columns):\n",
    "    return {f'{col}_std': np.std(window, axis=0) for col in eeg_columns}\n",
    "\n",
    "def calculate_min_max(window, eeg_columns):\n",
    "    return {f'{col}_min': np.min(window, axis=0) for col in eeg_columns} | \\\n",
    "           {f'{col}_max': np.max(window, axis=0) for col in eeg_columns}\n",
    "\n",
    "def calculate_ptp(window, eeg_columns):\n",
    "    return {f'{col}_ptp': np.ptp(window, axis=0) for col in eeg_columns}\n",
    "\n",
    "def calculate_energy(window, eeg_columns):\n",
    "    return {f'{col}_energy': np.sum(window**2, axis=0) for col in eeg_columns}\n",
    "\n",
    "def calculate_rms(window, eeg_columns):\n",
    "    return {f'{col}_rms': np.sqrt(np.mean(window**2, axis=0)) for col in eeg_columns}\n",
    "\n",
    "def calculate_skew_kurt(window, eeg_columns):\n",
    "    mean = np.mean(window, axis=0)\n",
    "    std = np.std(window, axis=0) + 1e-8  # Avoid division by zero\n",
    "    z = (window - mean) / std\n",
    "    skew = np.mean(z**3, axis=0)\n",
    "    kurt = np.mean(z**4, axis=0) - 3  # Fisher's kurtosis\n",
    "    return {f'{col}_skew': skew_val for col, skew_val in zip(eeg_columns, skew)} | \\\n",
    "           {f'{col}_kurt': kurt_val for col, kurt_val in zip(eeg_columns, kurt)}\n",
    "\n",
    "def calculate_zero_crossing(window, eeg_columns):\n",
    "    sign_changes = np.diff(np.sign(window), axis=0)\n",
    "    return {f'{col}_zcross': np.sum(sign_changes != 0, axis=0) for col in eeg_columns}\n",
    "\n",
    "### Sliding Window Processing Function\n",
    "def sliding_window_feature_calc(eeg_data, eeg_columns, window_size, step_size, feature_func, output_file):\n",
    "    feature_list = []\n",
    "    n_samples = eeg_data.shape[0]\n",
    "\n",
    "    for start in range(0, n_samples - window_size + 1, step_size):\n",
    "        end = start + window_size\n",
    "        window = eeg_data[start:end]\n",
    "        feature_list.append(feature_func(window, eeg_columns))\n",
    "\n",
    "    # Convert to DataFrame and save\n",
    "    feature_df = pd.DataFrame(feature_list)\n",
    "    feature_df.to_csv(output_file, index=False)\n",
    "    print(f\"Feature extraction complete. Saved to {output_file}\")\n",
    "\n",
    "### Extract & Save Features Separately\n",
    "sliding_window_feature_calc(eeg_data, eeg_columns, window_size, step_size, calculate_mean, f\"{output_dir}eeg_mean.csv\")\n",
    "sliding_window_feature_calc(eeg_data, eeg_columns, window_size, step_size, calculate_variance, f\"{output_dir}eeg_variance.csv\")\n",
    "sliding_window_feature_calc(eeg_data, eeg_columns, window_size, step_size, calculate_std, f\"{output_dir}eeg_std.csv\")\n",
    "sliding_window_feature_calc(eeg_data, eeg_columns, window_size, step_size, calculate_min_max, f\"{output_dir}eeg_min_max.csv\")\n",
    "sliding_window_feature_calc(eeg_data, eeg_columns, window_size, step_size, calculate_ptp, f\"{output_dir}eeg_ptp.csv\")\n",
    "sliding_window_feature_calc(eeg_data, eeg_columns, window_size, step_size, calculate_energy, f\"{output_dir}eeg_energy.csv\")\n",
    "sliding_window_feature_calc(eeg_data, eeg_columns, window_size, step_size, calculate_rms, f\"{output_dir}eeg_rms.csv\")\n",
    "sliding_window_feature_calc(eeg_data, eeg_columns, window_size, step_size, calculate_skew_kurt, f\"{output_dir}eeg_skew_kurt.csv\")\n",
    "sliding_window_feature_calc(eeg_data, eeg_columns, window_size, step_size, calculate_zero_crossing, f\"{output_dir}eeg_zero_crossing.csv\")\n",
    "\n",
    "print(\"✅ All time-domain features extracted and saved separately.\")\n"
   ]
  },
  {
   "cell_type": "code",
   "execution_count": 3,
   "metadata": {},
   "outputs": [
    {
     "name": "stdout",
     "output_type": "stream",
     "text": [
      "✅ MAD features saved!\n"
     ]
    }
   ],
   "source": [
    "import numpy as np\n",
    "import pandas as pd\n",
    "\n",
    "# Load dataset\n",
    "data = pd.read_csv('/Users/puchku-home/KIIT SEM/PROJECT/EEG/EEG Assets/chbmit_preprocessed_data.csv')\n",
    "eeg_columns = [col for col in data.columns if col != 'Outcome']\n",
    "eeg_data = data[eeg_columns].values\n",
    "\n",
    "# Compute MAD\n",
    "mad_values = np.mean(np.abs(eeg_data - np.mean(eeg_data, axis=0)), axis=0)\n",
    "\n",
    "# Save\n",
    "mad_df = pd.DataFrame({f\"{col}_mad\": mad_values for col in eeg_columns})\n",
    "mad_df.to_csv('/Users/puchku-home/KIIT SEM/PROJECT/EEG/TIME_FEATURES_OUTPUTS/mad_features.csv' , index=False)\n",
    "\n",
    "print(\"✅ MAD features saved!\")\n"
   ]
  },
  {
   "cell_type": "code",
   "execution_count": 4,
   "metadata": {},
   "outputs": [
    {
     "name": "stdout",
     "output_type": "stream",
     "text": [
      "✅ Hjorth features saved!\n"
     ]
    }
   ],
   "source": [
    "def hjorth_params(signal):\n",
    "    \"\"\"Compute Hjorth Activity, Mobility, Complexity.\"\"\"\n",
    "    activity = np.var(signal, axis=0)  # Power of signal\n",
    "    diff1 = np.diff(signal, axis=0)\n",
    "    mobility = np.sqrt(np.var(diff1, axis=0) / activity)\n",
    "    \n",
    "    diff2 = np.diff(diff1, axis=0)\n",
    "    complexity = np.sqrt(np.var(diff2, axis=0) / np.var(diff1, axis=0)) / mobility\n",
    "    \n",
    "    return activity, mobility, complexity\n",
    "\n",
    "# Compute Hjorth parameters\n",
    "activity, mobility, complexity = hjorth_params(eeg_data)\n",
    "\n",
    "# Save separately\n",
    "activity_df = pd.DataFrame({f\"{col}_hjorth_activity\": activity for col in eeg_columns})\n",
    "mobility_df = pd.DataFrame({f\"{col}_hjorth_mobility\": mobility for col in eeg_columns})\n",
    "complexity_df = pd.DataFrame({f\"{col}_hjorth_complexity\": complexity for col in eeg_columns})\n",
    "\n",
    "activity_df.to_csv('/Users/puchku-home/KIIT SEM/PROJECT/EEG/TIME_FEATURES_OUTPUTS/hjorth_activity.csv', index=False)\n",
    "mobility_df.to_csv('/Users/puchku-home/KIIT SEM/PROJECT/EEG/TIME_FEATURES_OUTPUTS/hjorth_mobility.csv', index=False)\n",
    "complexity_df.to_csv('/Users/puchku-home/KIIT SEM/PROJECT/EEG/TIME_FEATURES_OUTPUTS/hjorth_complexity.csv', index=False)\n",
    "\n",
    "print(\"✅ Hjorth features saved!\")\n"
   ]
  },
  {
   "cell_type": "code",
   "execution_count": 5,
   "metadata": {},
   "outputs": [
    {
     "name": "stdout",
     "output_type": "stream",
     "text": [
      "✅ Line Length features saved!\n"
     ]
    }
   ],
   "source": [
    "line_length = np.sum(np.abs(np.diff(eeg_data, axis=0)), axis=0)\n",
    "\n",
    "# Save\n",
    "line_length_df = pd.DataFrame({f\"{col}_line_length\": line_length for col in eeg_columns})\n",
    "line_length_df.to_csv('/Users/puchku-home/KIIT SEM/PROJECT/EEG/TIME_FEATURES_OUTPUTS/line_length.csv', index=False)\n",
    "\n",
    "print(\"✅ Line Length features saved!\")\n"
   ]
  },
  {
   "cell_type": "code",
   "execution_count": 6,
   "metadata": {},
   "outputs": [
    {
     "name": "stdout",
     "output_type": "stream",
     "text": [
      "✅ Shannon Entropy saved!\n"
     ]
    }
   ],
   "source": [
    "def shannon_entropy(signal):\n",
    "    \"\"\"Compute Shannon entropy for each channel.\"\"\"\n",
    "    prob = signal / np.sum(signal, axis=0)  # Normalize\n",
    "    entropy = -np.sum(prob * np.log2(prob + 1e-10), axis=0)  # Avoid log(0)\n",
    "    return entropy\n",
    "\n",
    "# Compute entropy\n",
    "entropy_values = shannon_entropy(np.abs(eeg_data))\n",
    "\n",
    "# Save\n",
    "entropy_df = pd.DataFrame({f\"{col}_shannon_entropy\": entropy_values for col in eeg_columns})\n",
    "entropy_df.to_csv('/Users/puchku-home/KIIT SEM/PROJECT/EEG/TIME_FEATURES_OUTPUTS/shannon_entropy.csv', index=False)\n",
    "\n",
    "print(\"✅ Shannon Entropy saved!\")\n"
   ]
  },
  {
   "cell_type": "code",
   "execution_count": 9,
   "metadata": {},
   "outputs": [
    {
     "name": "stdout",
     "output_type": "stream",
     "text": [
      "✅ Permutation Entropy saved successfully!\n"
     ]
    }
   ],
   "source": [
    "import os\n",
    "import numpy as np\n",
    "import pandas as pd\n",
    "\n",
    "# Define save path\n",
    "save_dir = \"/Users/puchku-home/KIIT SEM/PROJECT/EEG/TIME_FEATURES_OUTPUTS\"\n",
    "save_path = os.path.join(save_dir, \"permutation_entropy.csv\")\n",
    "\n",
    "# Ensure the directory exists\n",
    "os.makedirs(save_dir, exist_ok=True)\n",
    "\n",
    "# Compute entropy for each EEG channel\n",
    "perm_entropy_values = np.array([permutation_entropy(eeg_data[:, i]) for i in range(eeg_data.shape[1])])\n",
    "\n",
    "# Save\n",
    "perm_entropy_df = pd.DataFrame({f\"{col}_perm_entropy\": perm_entropy_values for col in eeg_columns})\n",
    "perm_entropy_df.to_csv(save_path, index=False)\n",
    "\n",
    "print(\"✅ Permutation Entropy saved successfully!\")\n"
   ]
  }
 ],
 "metadata": {
  "kernelspec": {
   "display_name": "myeeg",
   "language": "python",
   "name": "python3"
  },
  "language_info": {
   "codemirror_mode": {
    "name": "ipython",
    "version": 3
   },
   "file_extension": ".py",
   "mimetype": "text/x-python",
   "name": "python",
   "nbconvert_exporter": "python",
   "pygments_lexer": "ipython3",
   "version": "3.9.6"
  }
 },
 "nbformat": 4,
 "nbformat_minor": 2
}
